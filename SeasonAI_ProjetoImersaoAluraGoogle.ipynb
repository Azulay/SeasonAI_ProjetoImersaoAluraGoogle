{
  "nbformat": 4,
  "nbformat_minor": 0,
  "metadata": {
    "colab": {
      "provenance": [],
      "authorship_tag": "ABX9TyNqbhn/ZkVfs0B3sOs/Vr3Y",
      "include_colab_link": true
    },
    "kernelspec": {
      "name": "python3",
      "display_name": "Python 3"
    },
    "language_info": {
      "name": "python"
    }
  },
  "cells": [
    {
      "cell_type": "markdown",
      "metadata": {
        "id": "view-in-github",
        "colab_type": "text"
      },
      "source": [
        "<a href=\"https://colab.research.google.com/github/Azulay/SeasonAI_ProjetoImersaoAluraGoogle/blob/main/SeasonAI_ProjetoImersaoAluraGoogle.ipynb\" target=\"_parent\"><img src=\"https://colab.research.google.com/assets/colab-badge.svg\" alt=\"Open In Colab\"/></a>"
      ]
    },
    {
      "cell_type": "markdown",
      "source": [
        "# Inicialização da Season IA\n",
        "\n",
        "**Para mais informações leia o readme.md no gitHub**"
      ],
      "metadata": {
        "id": "FPeCofeIj98E"
      }
    },
    {
      "cell_type": "code",
      "execution_count": 1,
      "metadata": {
        "id": "uqBTIACTw6g5"
      },
      "outputs": [],
      "source": [
        "!pip install -q -U google-generativeai"
      ]
    },
    {
      "cell_type": "code",
      "source": [
        "import google.generativeai as genai\n",
        "from google.colab import userdata\n",
        "GOOGLE_API_KEY=userdata.get('GOOGLE_API_KEY')\n",
        "genai.configure(api_key=GOOGLE_API_KEY)\n",
        "\n",
        "generation_config = {\n",
        "    \"candidate_count\": 1,\n",
        "    \"temperature\": 0.9\n",
        "}\n",
        "\n",
        "safety_config = {\n",
        "    \"HARASSMENT\": \"BLOCK_NONE\",\n",
        "    \"HATE\": \"BLOCK_NONE\",\n",
        "    \"SEXUAL\": \"BLOCK_NONE\",\n",
        "    \"DANGEROUS\": \"BLOCK_NONE\"\n",
        "}\n"
      ],
      "metadata": {
        "id": "Cbg_Mi81xAaB"
      },
      "execution_count": 17,
      "outputs": []
    },
    {
      "cell_type": "code",
      "source": [
        "#Melhorando a visualização\n",
        "#Código disponível em https://ai.google.dev/tutorials/python_quickstart#import_packages\n",
        "import textwrap\n",
        "from IPython.display import display\n",
        "from IPython.display import Markdown\n",
        "\n",
        "def to_markdown(text):\n",
        "  text = text.replace('•', '•')\n",
        "  return Markdown(textwrap.indent(text, '    ', predicate=lambda _: True))"
      ],
      "metadata": {
        "id": "RPLV0TuhMwHi"
      },
      "execution_count": 18,
      "outputs": []
    },
    {
      "cell_type": "code",
      "source": [
        "# Inicializar o modelo\n",
        "model = genai.GenerativeModel(model_name=\"gemini-1.0-pro\", generation_config=generation_config, safety_settings=safety_config)"
      ],
      "metadata": {
        "id": "TelGS5YgzClt"
      },
      "execution_count": 19,
      "outputs": []
    },
    {
      "cell_type": "code",
      "source": [
        "chat = model.start_chat(history=[])"
      ],
      "metadata": {
        "id": "Q8s46OsSzgMu"
      },
      "execution_count": 20,
      "outputs": []
    },
    {
      "cell_type": "code",
      "source": [
        "# \"Alimentar a IA\" com o contexto inicial do SeasonAI chat Bot\n",
        "prompt = \"Você vai auxiliar alguém a comprar de forma mais otimizada(preço, sazonalidade, alternativas) baseado numa lista de compras.\"\n",
        "response = chat.send_message(prompt)\n",
        "print(\"SeasonAI: - \" + prompt)\n",
        "print(\"GoogleAI: - \" + response.text)"
      ],
      "metadata": {
        "colab": {
          "base_uri": "https://localhost:8080/",
          "height": 746
        },
        "id": "pW4C2IRJO085",
        "outputId": "0543cf83-7b67-4465-80df-379a4b945eed"
      },
      "execution_count": 21,
      "outputs": [
        {
          "output_type": "stream",
          "name": "stdout",
          "text": [
            "SeasonAI: - Você vai auxiliar alguém a comprar de forma mais otimizada(preço, sazonalidade, alternativas) baseado numa lista de compras.\n",
            "GoogleAI: - **Lista de Compras Otimizada**\n",
            "\n",
            "**Produtos Frescos**\n",
            "\n",
            "* **Legumes e Frutas:**\n",
            "    * Compre frutas e legumes da estação para economizar até 50%.\n",
            "    * Procure por produtos locais em feiras ou mercados de fazendeiros para reduzir custos de transporte.\n",
            "    * Evite comprar produtos pré-cortados ou embalados, pois são mais caros.\n",
            "* **Carne e Peixe:**\n",
            "    * Compre carne a granel quando possível para obter melhores preços por quilo.\n",
            "    * Compre carne congelada em vez de fresca para economizar até 30%.\n",
            "    * Substitua cortes caros por opções mais baratas, como frango ou peixe.\n",
            "\n",
            "**Produtos Não Perecíveis**\n",
            "\n",
            "* **Grãos e Cereais:**\n",
            "    * Compre arroz, feijão e lentilha a granel para economizar até 40%.\n",
            "    * Procure por marcas genéricas ou vendas a granel.\n",
            "* **Conservas e Alimentos Enlatados:**\n",
            "    * Compre conservas e enlatados quando estiverem em promoção.\n",
            "    * Compare preços entre marcas diferentes e escolha a opção mais barata.\n",
            "* **Produtos de Limpeza e Cuidados Pessoais:**\n",
            "    * Seja paciente e espere pelas vendas ou cupons.\n",
            "    * Compre marcas genéricas ou produtos de rótulo próprio.\n",
            "    * Use cupons e promoções sempre que possível.\n",
            "\n",
            "**Alternativas Econômicas**\n",
            "\n",
            "* **Aveia:** Substitua o cereal matinal caro por aveia, que é nutritiva e econômica.\n",
            "* **Lentilha:** Substitua a carne moída por lentilhas para uma opção de proteína mais barata.\n",
            "* **Arroz integral:** Substitua o arroz branco por arroz integral, que é mais saudável e acessível.\n",
            "* **Produtos de limpeza caseiros:** Faça seus próprios produtos de limpeza com ingredientes como vinagre, bicarbonato de sódio e suco de limão.\n",
            "* **Sabonete líquido:** Dilua o sabonete líquido com água para fazê-lo durar mais.\n",
            "\n",
            "**Dicas Adicionais**\n",
            "\n",
            "* **Planeje suas refeições:** Planejar suas refeições com antecedência evita compras por impulso e desperdícios.\n",
            "* **Use uma lista de compras:** Ir às compras com uma lista ajuda a evitar compras desnecessárias.\n",
            "* **Compare preços:** Compare preços em diferentes lojas antes de comprar.\n",
            "* **Estoque quando os preços estiverem baixos:** Compre itens essenciais quando estiverem em promoção para economizar a longo prazo.\n",
            "* **Aproveite cupons e promoções:** Use cupons e promoções sempre que possível para reduzir o custo de suas compras.\n"
          ]
        }
      ]
    },
    {
      "cell_type": "code",
      "source": [
        "prompt = '''Local de Compra: Rio de Janeiro, Data de Compra: 11/05. Reescreva a lista abaixo com uma coluna contendo um range dos valores \\\"$\\\", \\\"$$\\\" e \\\"$$$\\\", sendo \\\"$\\\"  se o  produto normalmente for barato na Data de Compra, \\\"$$\\\" se o produto tiver um valor mediano e \\\"$$$\\\" se o produto for caro. Crie também uma coluna com uma classificação de facilidade de aquisição no local de compra, usando os valores \\\"Fácil\\\" e \\\"Difícil\\\". Quando for \\\"Difícil\\\" de encontrar, listar ao lado o local mais próximo que seria \\\"Fácil\\\" de encontrar, provavelmente um local que produza ou que tenha muito consumo e que compre muito desse produto. Caso o produto seja difícil de encontrar ou tenha valor mais elevado na para a data de compra, criar uma coluna com sugestão de produtos semelhantes ou alternativos (por exemplo trocar limão por limão sciciliano, ou trocar ovo por Chia). Segue a lista inicial:\n",
        "Mamão\n",
        "Banana\n",
        "Laranja\n",
        "Limão\n",
        "Farinha de Trigo\n",
        "Açúcar\n",
        "Morango\n",
        "Uva\n",
        "Lichia\n",
        "Açaí\n",
        "'''\n",
        "response = chat.send_message(prompt)\n",
        "print(\"SeasonAI:\\n\" + prompt)\n",
        "print(\"GoogleAI:\\n\" + response.text)"
      ],
      "metadata": {
        "colab": {
          "base_uri": "https://localhost:8080/",
          "height": 662
        },
        "id": "ZaTaWwksTXQN",
        "outputId": "afe1f771-0521-4d3b-a090-79d979350112"
      },
      "execution_count": 23,
      "outputs": [
        {
          "output_type": "stream",
          "name": "stdout",
          "text": [
            "SeasonAI:\n",
            "Local de Compra: Rio de Janeiro, Data de Compra: 11/05. Reescreva a lista abaixo com uma coluna contendo um range dos valores \"$\", \"$$\" e \"$$$\", sendo \"$\"  se o  produto normalmente for barato na Data de Compra, \"$$\" se o produto tiver um valor mediano e \"$$$\" se o produto for caro. Crie também uma coluna com uma classificação de facilidade de aquisição no local de compra, usando os valores \"Fácil\" e \"Difícil\". Quando for \"Difícil\" de encontrar, listar ao lado o local mais próximo que seria \"Fácil\" de encontrar, provavelmente um local que produza ou que tenha muito consumo e que compre muito desse produto. Caso o produto seja difícil de encontrar ou tenha valor mais elevado na para a data de compra, criar uma coluna com sugestão de produtos semelhantes ou alternativos (por exemplo trocar limão por limão sciciliano, ou trocar ovo por Chia). Segue a lista inicial:\n",
            "Mamão\n",
            "Banana\n",
            "Laranja\n",
            "Limão\n",
            "Farinha de Trigo\n",
            "Açúcar\n",
            "Morango\n",
            "Uva\n",
            "Lichia\n",
            "Açaí\n",
            "\n",
            "GoogleAI:\n",
            "| Produto | Preço | Aquisição | Alternativas |\n",
            "|---|---|---|---|\n",
            "| Mamão | $ | Fácil | - |\n",
            "| Banana | $ | Fácil | - |\n",
            "| Laranja | $ | Fácil | - |\n",
            "| Limão | $$ | Fácil | Limão siciliano |\n",
            "| Farinha de Trigo | $$ | Fácil | - |\n",
            "| Açúcar | $$ | Fácil | - |\n",
            "| Morango | $$ | Fácil | - |\n",
            "| Uva | $$ | Fácil | - |\n",
            "| Lichia | $$$ | Difícil (Santa Teresa) | - |\n",
            "| Açaí | $$ | Fácil | - |\n",
            "\n",
            "**Legenda:**\n",
            "\n",
            "* Preço:\n",
            "    * $ = Barato\n",
            "    * $$ = Mediano\n",
            "    * $$$ = Caro\n",
            "* Aquisição:\n",
            "    * Fácil = Encontrado facilmente no Rio de Janeiro\n",
            "    * Difícil = Difícil de encontrar no Rio de Janeiro, com o local mais próximo indicado entre parênteses\n"
          ]
        }
      ]
    },
    {
      "cell_type": "markdown",
      "source": [
        "# Uso efetivo da SeasonAI, entre com os dados solicitados"
      ],
      "metadata": {
        "id": "1IzRnZ9lk8Wp"
      }
    },
    {
      "cell_type": "code",
      "source": [
        "# Uso da SeasonIA\n",
        "print(\"Reponda as perguntas abaixo e digite 'Fim' para finalizar\")\n",
        "dataDeCompra = \"Inicio\"\n",
        "localDeCompra = \"Inicio\"\n",
        "listaDeCompras = \"Inicio\"\n",
        "while listaDeCompras != \"Fim\" and localDeCompra != \"Fim\" and dataDeCompra != \"Fim\" :\n",
        "  if listaDeCompras != \"Fim\" and localDeCompra != \"Fim\" and dataDeCompra != \"Fim\":\n",
        "    dataDeCompra = input(\" > Em que data vai comprar?\")\n",
        "  if listaDeCompras != \"Fim\" and localDeCompra != \"Fim\" and dataDeCompra != \"Fim\":\n",
        "    localDeCompra = input(\" > Em que local vai comprar?\")\n",
        "  if listaDeCompras != \"Fim\" and localDeCompra != \"Fim\" and dataDeCompra != \"Fim\":\n",
        "    listaDeCompras = input(\" > Liste os produtos que deseja comprar: (Lista sugerida: Banana, Laranja, Abacaxi, Lichia, Cereja, Tâmara)\")\n",
        "  if listaDeCompras != \"Fim\" and localDeCompra != \"Fim\" and dataDeCompra != \"Fim\":\n",
        "    prompt = \"Refaça a lista para o local \" + localDeCompra + \", para a data \" + dataDeCompra + \" e a seguinte lista \" + listaDeCompras\n",
        "    response = chat.send_message(prompt)\n",
        "    print(\" > Resposta: \" + response.text + \"\\n\\n\")\n",
        "\n",
        "print(\"\\n\\n > Obrigado por usar SeasonAI :)\\n\\n\")\n",
        ""
      ],
      "metadata": {
        "id": "Nkt15WWWS0-M"
      },
      "execution_count": null,
      "outputs": []
    },
    {
      "cell_type": "code",
      "source": [],
      "metadata": {
        "id": "YTrlL5lA5acV"
      },
      "execution_count": null,
      "outputs": []
    }
  ]
}